{
 "cells": [
  {
   "cell_type": "markdown",
   "metadata": {},
   "source": [
    "# RustKit Learn\n",
    "### CIS 1905 Rust Final Project\n",
    "#### Marwan Achi, Rose Wang"
   ]
  },
  {
   "cell_type": "markdown",
   "metadata": {},
   "source": [
    "For this project, we implemented the following methods in Rust to emulate the commonly used Python library SKLearn.\n",
    "- Preprocessing:\n",
    "    - Scaler\n",
    "    - Imputer\n",
    "- Supervised\n",
    "    - Ridge Regression\n",
    "    - With the following Regression Metrics:\n",
    "        - R^2\n",
    "        - MSE\n",
    "- Unsupervised\n",
    "    - KMeans\n",
    "    - PCA\n",
    "\n",
    "After implementing the methods in Rust, we created Python bindings using `maturin` and `PyO3` to use these methods and classes as a library in Python, called `rustkit`. To do so, we implemented converter functions that converted `numpy` matrices and vectors into `nalgebra` matrices and vectors, handling generic types and null values."
   ]
  },
  {
   "cell_type": "code",
   "execution_count": 1,
   "metadata": {},
   "outputs": [],
   "source": [
    "# imports\n",
    "import numpy as np\n",
    "import matplotlib.pyplot as plt\n",
    "import pandas as pd\n",
    "import seaborn as sns\n",
    "import rustkit\n",
    "import unit_tests as tests"
   ]
  },
  {
   "cell_type": "markdown",
   "metadata": {},
   "source": [
    "### 1. Benchmarking\n",
    "We tested our implementation's performance in comparison to `sklearn`'s performance by measuring runtime across increasing input size in the following ways:\n",
    "- `sklearn` method runtime: using wallclock time from the function call to when it returns in Python\n",
    "- `rustkit` method runtime: using wallclock time from the function call to when it returns in Python, including the full process of converting to/from Rust/Python objects\n",
    "- `rustkit` Rust internal runtime: using wallclock time from the function call to when the function returns in Rust, excluding all Python interoperability computation\n",
    "\n",
    "All Python benchmarking was done for 100 iterations. Input matrices ranged from 10 x 10 to 10000 x 10000 with a stepsize of x10. All KMeans were tested with 10 features and 3 clusters."
   ]
  },
  {
   "cell_type": "code",
   "execution_count": null,
   "metadata": {},
   "outputs": [],
   "source": [
    "# read in benchmark logs\n",
    "rustkit_python = pd.read_csv(\"rustkit_benchmarking.csv\", sep=\",\", header=None, names=[\"function\", \"nrows\", \"ncols\", \"avg_time\"])\n",
    "rustkit_rust = pd.read_csv(\"timing_log.csv\", sep=\",\", header=None, names=[\"function\", \"nrows\", \"ncols\", \"time\"])\n",
    "sklearn_python = pd.read_csv(\"sklearn_benchmarking.csv\", sep=\",\", header=None, names=[\"function\", \"nrows\", \"ncols\", \"avg_time\"])"
   ]
  },
  {
   "cell_type": "code",
   "execution_count": null,
   "metadata": {},
   "outputs": [],
   "source": [
    "# aggregate rustkit_rust\n",
    "rustkit_rust = rustkit_rust.groupby([\"function\", \"nrows\", \"ncols\"]).agg({\"time\": \"mean\"}).reset_index()\n",
    "rustkit_rust[\"avg_time\"] = rustkit_rust[\"time\"]\n",
    "rustkit_rust = rustkit_rust.drop(columns=\"time\")\n",
    "\n",
    "# remove rustkit rust benchmarks that are not in rustkit python\n",
    "rustkit_rust_clean = rustkit_rust[rustkit_rust[\"function\"].isin(rustkit_python[\"function\"].unique())]"
   ]
  },
  {
   "cell_type": "code",
   "execution_count": null,
   "metadata": {},
   "outputs": [],
   "source": [
    "# normalize across function\n",
    "rustkit_rust_clean[\"avg_time_norm\"] = rustkit_rust_clean.groupby(\"function\")[\"avg_time\"].transform(lambda x: x / x.min())\n",
    "rustkit_python[\"avg_time_norm\"] = rustkit_python.groupby(\"function\")[\"avg_time\"].transform(lambda x: x / x.min())\n",
    "sklearn_python[\"avg_time_norm\"] = sklearn_python.groupby(\"function\")[\"avg_time\"].transform(lambda x: x / x.min())\n",
    "# Plot all benchmarks\n",
    "fig, ax = plt.subplots(1, 1, figsize=(10, 5))\n",
    "sns.lineplot(data=rustkit_python, x=\"nrows\", y=\"avg_time\", hue=\"function\", style=\"function\", ax=ax)\n",
    "sns.lineplot(data=sklearn_python, x=\"nrows\", y=\"avg_time\", hue=\"function\", style=\"function\", ax=ax)\n",
    "ax.set_xscale(\"log\")"
   ]
  },
  {
   "cell_type": "markdown",
   "metadata": {},
   "source": [
    "Knowing that some of the difference in runtime can be attributed to the Python bindings themselves, let's see how the Python interop impacted performance by comparing rustkit's runtime from Python vs. Rust."
   ]
  },
  {
   "cell_type": "code",
   "execution_count": null,
   "metadata": {},
   "outputs": [],
   "source": [
    "# Difference between rustkit python and rustkit rust\n",
    "rustkit_diff = rustkit_python.merge(rustkit_rust_clean, on=[\"function\", \"nrows\", \"ncols\"], suffixes=(\"_python\", \"_rust\"))\n",
    "rustkit_diff[\"diff\"] = rustkit_diff[\"avg_time_rust\"] - rustkit_diff[\"avg_time_python\"]\n",
    "\n",
    "# heatmap of difference\n",
    "fig, ax = plt.subplots(1, 1, figsize=(10, 5))\n",
    "sns.heatmap(rustkit_diff.pivot(\"function\", \"nrows\", \"diff\"), annot=True, ax=ax)\n",
    "plt.show()\n",
    "\n",
    "# Plot rustkit python vs rustkit rust\n",
    "fig, ax = plt.subplots(1, 1, figsize=(10, 5))\n",
    "sns.lineplot(data=rustkit_python, x=\"nrows\", y=\"avg_time\", hue=\"function\", style=\"function\", ax=ax)\n",
    "sns.lineplot(data=rustkit_rust_clean, x=\"nrows\", y=\"avg_time\", hue=\"function\", style=\"function\", ax=ax)\n",
    "plt.show()\n"
   ]
  },
  {
   "cell_type": "markdown",
   "metadata": {},
   "source": [
    "Now, let's assess runtime differences between `sklearn` and `rustkit`'s underlying Rust runtime."
   ]
  },
  {
   "cell_type": "code",
   "execution_count": null,
   "metadata": {},
   "outputs": [],
   "source": [
    "fig, ax = plt.subplots(1, 1, figsize=(10, 5))\n",
    "sns.lineplot(data=rustkit_rust_clean, x=\"nrows\", y=\"avg_time\", hue=\"function\", style=\"function\", ax=ax)\n",
    "sns.lineplot(data=sklearn_python, x=\"nrows\", y=\"avg_time\", hue=\"function\", style=\"function\", ax=ax)\n",
    "# ax.set_xscale(\"log\")\n",
    "plt.show()"
   ]
  },
  {
   "cell_type": "markdown",
   "metadata": {},
   "source": [
    "### 2. Unit Tests\n",
    "We tested our implementation fo **correctness** by comparing `rustkit` outputs to `sklearn` outputs.\n",
    "Specifically, we assessed correctness on the following inputs:\n",
    "- Inputs of size 1\n",
    "- Square inputs\n",
    "- Rectangular inputs\n",
    "- Large inputs\n",
    "- Inputs with only negative values\n",
    "- Inputs with only positive values\n",
    "- Inputs with both positive and negative values"
   ]
  },
  {
   "cell_type": "code",
   "execution_count": null,
   "metadata": {},
   "outputs": [],
   "source": [
    "tests.test_single_input()\n",
    "print(\"\\n\\n\")\n",
    "tests.test_square_input()\n",
    "print(\"\\n\\n\")\n",
    "tests.test_large_input()\n",
    "print(\"\\n\\n\")\n",
    "tests.test_negative_input()\n",
    "print(\"\\n\\n\")\n",
    "tests.test_mixed_input()"
   ]
  },
  {
   "cell_type": "markdown",
   "metadata": {},
   "source": [
    "We tested our **Python bindings** for correctness by comparing the outputs of `main.rs` with `test.py`, where we tested each method for expected rust functionality. We also tested the conversion to/from Rust/Python in isolation by converting in isolation."
   ]
  },
  {
   "cell_type": "code",
   "execution_count": null,
   "metadata": {},
   "outputs": [],
   "source": [
    "def test_converter_vector():\n",
    "    input_vector = np.array([1.0, 2.0, 3.0, 4.0])\n",
    "    result = rustkit.converter_vector_test(input_vector)\n",
    "    \n",
    "    result_vector = np.array(result)\n",
    "    \n",
    "    print(\"VECTOR TEST\")\n",
    "    print(\"Input vector:\")\n",
    "    print(input_vector)\n",
    "    print(\"Result vector:\")\n",
    "    print(result_vector)\n",
    "    assert np.array_equal(input_vector, result_vector), \"Test failed! Input and output vectors are not equal.\"\n",
    "    print(\"Vector test passed!\")\n",
    "\n",
    "def test_converter_matrix():\n",
    "    input_matrix = np.array([[1.0, 2.0, 3.0], [4.0, 5.0, 6.0]])\n",
    "    \n",
    "    result = rustkit.converter_matrix_test(input_matrix)\n",
    "    \n",
    "    result_matrix = np.array(result)\n",
    "    \n",
    "    print(\"MATRIX TEST\")\n",
    "    print(\"Input matrix:\")\n",
    "    print(input_matrix)\n",
    "    print(\"Result matrix:\")\n",
    "    print(result_matrix)\n",
    "    assert np.array_equal(input_matrix, result_matrix), \"Test failed! Input and output matrices are not equal.\"\n",
    "    print(\"Matrix test passed!\")"
   ]
  },
  {
   "cell_type": "code",
   "execution_count": null,
   "metadata": {},
   "outputs": [],
   "source": [
    "test_converter_matrix()\n",
    "test_converter_vector()"
   ]
  }
 ],
 "metadata": {
  "kernelspec": {
   "display_name": "rust-final-proj",
   "language": "python",
   "name": "python3"
  },
  "language_info": {
   "codemirror_mode": {
    "name": "ipython",
    "version": 3
   },
   "file_extension": ".py",
   "mimetype": "text/x-python",
   "name": "python",
   "nbconvert_exporter": "python",
   "pygments_lexer": "ipython3",
   "version": "3.10.15"
  }
 },
 "nbformat": 4,
 "nbformat_minor": 2
}
